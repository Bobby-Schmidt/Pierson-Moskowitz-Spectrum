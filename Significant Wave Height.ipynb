{
 "cells": [
  {
   "cell_type": "markdown",
   "metadata": {},
   "source": [
    "### Purpose\n",
    "This notebook will be used to illustrate the changes in significant wave height $H_{s}$ caused by the change in wind speed $V_{wind}$.\n",
    "\n",
    "The equation for significant wave height is the following:\n",
    "\n",
    "$$H_{s} = 0.21\\frac{V_{wind}^{2}}{g}$$"
   ]
  },
  {
   "cell_type": "code",
   "execution_count": 2,
   "metadata": {
    "collapsed": false
   },
   "outputs": [],
   "source": [
    "import numpy as np\n",
    "from matplotlib import pyplot as plt\n",
    "%matplotlib inline"
   ]
  },
  {
   "cell_type": "code",
   "execution_count": 11,
   "metadata": {
    "collapsed": false
   },
   "outputs": [
    {
     "data": {
      "text/plain": [
       "array([ 0.14160944,  0.15929437,  0.17801958,  0.19778509,  0.21859089,\n",
       "        0.24043697,  0.26332335,  0.28725001,  0.31221696,  0.33822421,\n",
       "        0.36527174,  0.39335957,  0.42248768,  0.45265608,  0.48386477,\n",
       "        0.51611376,  0.54940303,  0.58373259,  0.61910244,  0.65551258,\n",
       "        0.69296302,  0.73145374,  0.77098475,  0.81155605,  0.85316764,\n",
       "        0.89581952,  0.93951169,  0.98424415,  1.0300169 ,  1.07682994,\n",
       "        1.12468327,  1.17357688,  1.22351079,  1.27448499,  1.32649948,\n",
       "        1.37955426,  1.43364932,  1.48878468,  1.54496033,  1.60217626,\n",
       "        1.66043249,  1.71972901,  1.78006581,  1.84144291,  1.90386029,\n",
       "        1.96731797,  2.03181594,  2.09735419,  2.16393273,  2.23155157,\n",
       "        2.30021069,  2.36991011,  2.44064981,  2.5124298 ,  2.58525009,\n",
       "        2.65911066,  2.73401152,  2.80995267,  2.88693412,  2.96495585,\n",
       "        3.04401787,  3.12412018,  3.20526278,  3.28744567,  3.37066885,\n",
       "        3.45493233,  3.54023609,  3.62658014,  3.71396448,  3.8023891 ,\n",
       "        3.89185402,  3.98235923,  4.07390473,  4.16649052,  4.2601166 ,\n",
       "        4.35478297,  4.45048962,  4.54723657,  4.64502381,  4.74385134,\n",
       "        4.84371915,  4.94462726,  5.04657566,  5.14956434,  5.25359332,\n",
       "        5.35866258,  5.46477214,  5.57192198,  5.68011212,  5.78934254,\n",
       "        5.89961326,  6.01092426,  6.12327556,  6.23666714,  6.35109901,\n",
       "        6.46657118,  6.58308363,  6.70063637,  6.81922941,  6.93886273])"
      ]
     },
     "execution_count": 11,
     "metadata": {},
     "output_type": "execute_result"
    }
   ],
   "source": [
    "#    Acceleration due to gravity\n",
    "g = 9.81\n",
    "\n",
    "#    Creation of array of wind speeds, in knots.\n",
    "V_wind_knots = np.linspace(5,35,100)\n",
    "\n",
    "#    Equation requires units of m/s for wind speed\n",
    "V_wind = V_wind_knots * 0.5144\n",
    "\n",
    "H_s = 0.21 * (V_wind**2 / g)\n",
    "H_s"
   ]
  },
  {
   "cell_type": "code",
   "execution_count": 12,
   "metadata": {
    "collapsed": false
   },
   "outputs": [
    {
     "data": {
      "image/png": "[encoded data removed]",
      "text/plain": [
       "<matplotlib.figure.Figure at 0x10857f390>"
      ]
     },
     "metadata": {},
     "output_type": "display_data"
    }
   ],
   "source": [
    "# Make the figure pretty, then plot the results\n",
    "#   \"pretty\" parameters selected based on pdf output, not screen output\n",
    "#   Many of these setting could also be made default by the .matplotlibrc file\n",
    "fig = plt.figure(figsize=(6,4))\n",
    "ax = plt.gca()\n",
    "plt.subplots_adjust(bottom=0.17,left=0.17,top=0.96,right=0.96)\n",
    "plt.setp(ax.get_ymajorticklabels(),family='Serif',fontsize=18)\n",
    "plt.setp(ax.get_xmajorticklabels(),family='Serif',fontsize=18)\n",
    "ax.spines['right'].set_color('none')\n",
    "ax.spines['top'].set_color('none')\n",
    "ax.xaxis.set_ticks_position('bottom')\n",
    "ax.yaxis.set_ticks_position('left')\n",
    "ax.grid(True,linestyle=':',color='0.75')\n",
    "ax.set_axisbelow(True)\n",
    "\n",
    "plt.xlabel(r'Time(s)',family='Serif',fontsize=22,weight='bold',labelpad=5)\n",
    "plt.ylabel(r'Position (m)',family='Serif',fontsize=22,weight='bold',labelpad=10)\n",
    "\n",
    "plt.plot(V_wind_knots, H_s, linewidth=2, linestyle = '-',   label=r'Significant Wave Height')\n",
    "\n",
    "# plt.xlim(0,1.6)\n",
    "# plt.ylim(-0.2,0.25)\n",
    "\n",
    "# leg = plt.legend(loc='upper right', fancybox=True)\n",
    "# ltext  = leg.get_texts() \n",
    "# plt.setp(ltext,family='Serif',fontsize=16)\n",
    "\n",
    "# Adjust the page layout filling the page using the new tight_layout command\n",
    "plt.tight_layout(pad=0.5)\n",
    "\n",
    "# If you want to save the figure, uncomment the commands below. \n",
    "# The figure will be saved in the same directory as your IPython notebook.\n",
    "# Save the figure as a high-res pdf in the current folder\n",
    "plt.savefig('Sig_Wave_Height.pdf')\n",
    "\n",
    "fig.set_size_inches(9,6) # Resize the figure for better display in the notebook\n",
    "plt.show()"
   ]
  },
  {
   "cell_type": "code",
   "execution_count": null,
   "metadata": {
    "collapsed": true
   },
   "outputs": [],
   "source": []
  }
 ],
 "metadata": {
  "kernelspec": {
   "display_name": "Python 2",
   "language": "python",
   "name": "python2"
  },
  "language_info": {
   "codemirror_mode": {
    "name": "ipython",
    "version": 2
   },
   "file_extension": ".py",
   "mimetype": "text/x-python",
   "name": "python",
   "nbconvert_exporter": "python",
   "pygments_lexer": "ipython2",
   "version": "2.7.11"
  }
 },
 "nbformat": 4,
 "nbformat_minor": 0
}
